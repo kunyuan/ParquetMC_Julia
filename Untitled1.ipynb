{
 "cells": [
  {
   "cell_type": "code",
   "execution_count": 1,
   "metadata": {},
   "outputs": [],
   "source": [
    "import Revise"
   ]
  },
  {
   "cell_type": "code",
   "execution_count": 7,
   "metadata": {},
   "outputs": [
    {
     "name": "stdout",
     "output_type": "stream",
     "text": [
      "Loading polar_pid0.jld2\n",
      "Loading polar_pid1.jld2\n",
      "Loading polar_pid10.jld2\n",
      "Loading polar_pid11.jld2\n",
      "Loading polar_pid12.jld2\n",
      "Loading polar_pid13.jld2\n",
      "Loading polar_pid14.jld2\n",
      "Loading polar_pid15.jld2\n",
      "Loading polar_pid16.jld2\n",
      "Loading polar_pid17.jld2\n",
      "Loading polar_pid18.jld2\n",
      "Loading polar_pid19.jld2\n",
      "Loading polar_pid2.jld2\n",
      "Loading polar_pid20.jld2\n",
      "Loading polar_pid21.jld2\n",
      "Loading polar_pid22.jld2\n",
      "Loading polar_pid23.jld2\n",
      "Loading polar_pid24.jld2\n",
      "Loading polar_pid25.jld2\n",
      "Loading polar_pid26.jld2\n",
      "Loading polar_pid27.jld2\n",
      "Loading polar_pid28.jld2\n",
      "Loading polar_pid29.jld2\n",
      "Loading polar_pid3.jld2\n",
      "Loading polar_pid30.jld2\n",
      "Loading polar_pid4.jld2\n",
      "Loading polar_pid5.jld2\n",
      "Loading polar_pid6.jld2\n",
      "Loading polar_pid7.jld2\n",
      "Loading polar_pid8.jld2\n",
      "Loading polar_pid9.jld2\n",
      "[0.010023130641883057, 0.004407522348483675, 0.005080156281183995, 0.009766467693878986, 0.007111333749009303, 0.006124508966166071, 0.004071205382133515, 0.006376746690928691, 0.012532232219784908, 0.014200541381811359, 0.008363671926339505, 0.010478928635752352, 0.01235079806688548, 0.014802371742648488, 0.014474905222781225, 0.01970994431741595, 0.03767192545445936, 0.06241334859740337, 0.06821924149018507, 0.08188433085978104, 0.06676776826698964, 0.06742270130672418, 0.05851472692168638, 0.09234998382580906, 0.06178939212035899, 0.033768878555500925, 0.0415749723534178, 0.04598691992514292, 0.04777028489144706, 0.03829588193150374, 0.024312176488523404, 0.03667625022513323, 0.01578477130225027, 0.028569241246797796, 0.006456400709274781, 0.05156270120936926, 0.011443627302388338, 0.03891983840854812, 0.042105999142391735, 0.02619289636613943, 0.014328872855813394, 0.05928029054245714, 0.06411263432211997, 0.02341828139375061, 0.00755385607315425, 0.004938549137457612, 0.029272851742188265, 0.024440507962525438, 0.015492706568314606, 0.01881604922264316, 0.017391127338896428, 0.05105380053660257, 0.03453886739951314, 0.012359648513368378, 0.023997985638380494, 0.030857081662627177, 0.005173085969254434, 0.024803376268324295, 0.015718392953628528, 0.0010222265687748282, 0.0, 0.0, 0.0, 0.0]\n",
      "(64,)"
     ]
    },
    {
     "name": "stderr",
     "output_type": "stream",
     "text": [
      "WARNING: redefining constant ReWeight\n",
      "WARNING: replacing module Grid.\n"
     ]
    }
   ],
   "source": [
    "include(\"polar.jl\")"
   ]
  },
  {
   "cell_type": "code",
   "execution_count": null,
   "metadata": {},
   "outputs": [],
   "source": []
  }
 ],
 "metadata": {
  "kernelspec": {
   "display_name": "Julia 1.4.1",
   "language": "julia",
   "name": "julia-1.4"
  },
  "language_info": {
   "file_extension": ".jl",
   "mimetype": "application/julia",
   "name": "julia",
   "version": "1.4.1"
  }
 },
 "nbformat": 4,
 "nbformat_minor": 4
}
